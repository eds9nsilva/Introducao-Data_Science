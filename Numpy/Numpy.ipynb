{
 "cells": [
  {
   "cell_type": "markdown",
   "metadata": {},
   "source": [
    "# Usando Numpy"
   ]
  },
  {
   "cell_type": "markdown",
   "metadata": {},
   "source": [
    "*Entendo que já está com a biblioteca instala, agora podemos importar*"
   ]
  },
  {
   "cell_type": "code",
   "execution_count": 2,
   "metadata": {},
   "outputs": [],
   "source": [
    "import numpy as np"
   ]
  },
  {
   "cell_type": "markdown",
   "metadata": {},
   "source": [
    "*Numpy possui muitas funções, então não vamos falar sobre todas mas pelo menos as básica*"
   ]
  },
  {
   "cell_type": "markdown",
   "metadata": {},
   "source": [
    "**Criando uma lista em Python**"
   ]
  },
  {
   "cell_type": "code",
   "execution_count": 3,
   "metadata": {},
   "outputs": [],
   "source": [
    "lista = [1,2,3]"
   ]
  },
  {
   "cell_type": "code",
   "execution_count": 4,
   "metadata": {},
   "outputs": [
    {
     "data": {
      "text/plain": [
       "[1, 2, 3]"
      ]
     },
     "execution_count": 4,
     "metadata": {},
     "output_type": "execute_result"
    }
   ],
   "source": [
    "lista"
   ]
  },
  {
   "cell_type": "markdown",
   "metadata": {},
   "source": [
    "**Convertendo está lista em um array numpy**"
   ]
  },
  {
   "cell_type": "code",
   "execution_count": 5,
   "metadata": {},
   "outputs": [
    {
     "data": {
      "text/plain": [
       "array([1, 2, 3])"
      ]
     },
     "execution_count": 5,
     "metadata": {},
     "output_type": "execute_result"
    }
   ],
   "source": [
    "np.array(lista)"
   ]
  },
  {
   "cell_type": "markdown",
   "metadata": {},
   "source": [
    "*Criando uma matriz em Python*"
   ]
  },
  {
   "cell_type": "code",
   "execution_count": 6,
   "metadata": {},
   "outputs": [],
   "source": [
    "matriz = [[1,2,3],[4,5,6],[7,8,9]]"
   ]
  },
  {
   "cell_type": "markdown",
   "metadata": {},
   "source": [
    "Convertendo a matriz em uma array 2d"
   ]
  },
  {
   "cell_type": "code",
   "execution_count": 7,
   "metadata": {},
   "outputs": [
    {
     "data": {
      "text/plain": [
       "array([[1, 2, 3],\n",
       "       [4, 5, 6],\n",
       "       [7, 8, 9]])"
      ]
     },
     "execution_count": 7,
     "metadata": {},
     "output_type": "execute_result"
    }
   ],
   "source": [
    "np.array(matriz)"
   ]
  },
  {
   "cell_type": "markdown",
   "metadata": {},
   "source": [
    "**Arange**"
   ]
  },
  {
   "cell_type": "markdown",
   "metadata": {},
   "source": [
    "Criar uma array dentro de um determinado intervalos"
   ]
  },
  {
   "cell_type": "code",
   "execution_count": 8,
   "metadata": {},
   "outputs": [
    {
     "data": {
      "text/plain": [
       "array([0, 1, 2, 3, 4, 5, 6, 7, 8, 9])"
      ]
     },
     "execution_count": 8,
     "metadata": {},
     "output_type": "execute_result"
    }
   ],
   "source": [
    "# Criando um array de 0 a 10\n",
    "np.arange(0,10)"
   ]
  },
  {
   "cell_type": "code",
   "execution_count": 9,
   "metadata": {},
   "outputs": [
    {
     "data": {
      "text/plain": [
       "array([ 0,  2,  4,  6,  8, 10])"
      ]
     },
     "execution_count": 9,
     "metadata": {},
     "output_type": "execute_result"
    }
   ],
   "source": [
    "# Criando um array de 0 a 11 com intervalo de 2\n",
    "np.arange(0,11,2)"
   ]
  },
  {
   "cell_type": "markdown",
   "metadata": {},
   "source": [
    "**Random**"
   ]
  },
  {
   "cell_type": "markdown",
   "metadata": {},
   "source": [
    "Criar valores aleatórios "
   ]
  },
  {
   "cell_type": "markdown",
   "metadata": {},
   "source": [
    "**rand** *Cria uma array com valores aleatórios entre o intervalo 0 e 1*"
   ]
  },
  {
   "cell_type": "code",
   "execution_count": 10,
   "metadata": {},
   "outputs": [
    {
     "data": {
      "text/plain": [
       "array([0.09052649, 0.14557405])"
      ]
     },
     "execution_count": 10,
     "metadata": {},
     "output_type": "execute_result"
    }
   ],
   "source": [
    "np.random.rand(2)"
   ]
  },
  {
   "cell_type": "code",
   "execution_count": 11,
   "metadata": {},
   "outputs": [
    {
     "data": {
      "text/plain": [
       "array([[0.12504078, 0.11334175, 0.73734361, 0.89912121],\n",
       "       [0.96394855, 0.01722985, 0.29397814, 0.58260192],\n",
       "       [0.40422777, 0.15571608, 0.97726008, 0.32782546],\n",
       "       [0.62452935, 0.02322044, 0.42890055, 0.30791721]])"
      ]
     },
     "execution_count": 11,
     "metadata": {},
     "output_type": "execute_result"
    }
   ],
   "source": [
    "np.random.rand(4,4)"
   ]
  },
  {
   "cell_type": "markdown",
   "metadata": {},
   "source": [
    "**randint** *Retorna um valor inteiro dentro de um intervalo* "
   ]
  },
  {
   "cell_type": "code",
   "execution_count": 12,
   "metadata": {},
   "outputs": [
    {
     "data": {
      "text/plain": [
       "3"
      ]
     },
     "execution_count": 12,
     "metadata": {},
     "output_type": "execute_result"
    }
   ],
   "source": [
    "# Retornar um valor entre 1 e 10\n",
    "np.random.randint(1,10)"
   ]
  },
  {
   "cell_type": "code",
   "execution_count": 13,
   "metadata": {},
   "outputs": [
    {
     "data": {
      "text/plain": [
       "array([46,  2, 16, 18, 12])"
      ]
     },
     "execution_count": 13,
     "metadata": {},
     "output_type": "execute_result"
    }
   ],
   "source": [
    "# Retornar 5 valores entre 1 e 0\n",
    "np.random.randint(1,50,5)"
   ]
  },
  {
   "cell_type": "markdown",
   "metadata": {},
   "source": [
    "**randn** *Retorna valores reais*"
   ]
  },
  {
   "cell_type": "code",
   "execution_count": 14,
   "metadata": {},
   "outputs": [
    {
     "data": {
      "text/plain": [
       "array([ 1.53015673, -0.39361676])"
      ]
     },
     "execution_count": 14,
     "metadata": {},
     "output_type": "execute_result"
    }
   ],
   "source": [
    "np.random.randn(2)"
   ]
  },
  {
   "cell_type": "code",
   "execution_count": 15,
   "metadata": {},
   "outputs": [
    {
     "data": {
      "text/plain": [
       "array([[ 2.64662763e-01, -2.06826284e+00,  4.70068135e-01,\n",
       "        -1.51470531e+00,  9.51762635e-01,  5.99883945e-01,\n",
       "        -1.95221871e-01,  1.86092638e+00,  6.07134088e-01,\n",
       "        -1.01604248e+00],\n",
       "       [ 1.17970827e+00, -1.35849811e+00, -1.59910063e-01,\n",
       "        -1.55025907e+00, -2.22315810e-01,  2.48632099e+00,\n",
       "        -2.54827711e-01,  1.10577239e+00, -7.42441734e-01,\n",
       "        -2.30600493e+00],\n",
       "       [ 1.09169998e-01,  8.41400686e-02,  1.32433441e+00,\n",
       "        -7.98139603e-01, -1.02264331e+00,  6.92923911e-02,\n",
       "         1.16472832e+00, -8.46559184e-01, -6.09120323e-01,\n",
       "         1.15719786e+00],\n",
       "       [ 8.91382073e-01,  1.36152287e+00, -5.21550493e-01,\n",
       "         1.39426847e+00,  3.00580472e-01, -3.57599417e-01,\n",
       "         4.01336746e-01,  1.46701049e+00,  8.22211394e-02,\n",
       "        -3.32633762e-01],\n",
       "       [-6.06812030e-02, -7.00527594e-01,  6.98373964e-02,\n",
       "        -1.48606985e-02,  2.40086169e-01,  2.09328124e-01,\n",
       "        -1.05424938e-01, -3.19763240e-01, -1.87752769e-01,\n",
       "        -9.06131316e-02],\n",
       "       [-1.80657242e+00,  5.55971263e-02, -8.60161810e-01,\n",
       "         3.07378500e+00,  1.77814239e+00,  7.01077674e-02,\n",
       "         6.42593621e-02, -2.26720629e+00,  1.67336371e-01,\n",
       "         4.96783666e-01],\n",
       "       [-1.06189320e+00, -8.08510349e-01, -6.13034910e-02,\n",
       "        -2.06002125e-01, -4.32102722e-01, -1.26820440e+00,\n",
       "         1.34974679e+00, -2.17599976e-01, -1.64014928e-01,\n",
       "        -9.40574065e-01],\n",
       "       [-1.38630387e+00, -2.79035143e-01,  1.16466085e+00,\n",
       "        -1.32252877e+00, -1.63175496e+00,  1.52343784e+00,\n",
       "         4.71900781e-01,  1.00606483e-01,  1.19601986e+00,\n",
       "        -3.87368623e-01],\n",
       "       [ 3.98311614e-01,  1.65044451e+00,  1.92094719e-03,\n",
       "         3.63631156e-01,  4.39825103e-01, -1.43855697e-01,\n",
       "        -8.96408462e-01,  1.29192700e+00, -9.76951872e-01,\n",
       "        -1.93802580e-01],\n",
       "       [-1.50043687e+00,  2.89051859e-01, -3.50395540e-01,\n",
       "         6.84280181e-01,  2.59922352e-01, -1.70624161e-01,\n",
       "         6.76842638e-01, -1.32001118e+00,  1.76311281e+00,\n",
       "        -1.13135195e+00]])"
      ]
     },
     "execution_count": 15,
     "metadata": {},
     "output_type": "execute_result"
    }
   ],
   "source": [
    "np.random.randn(10,10)"
   ]
  },
  {
   "cell_type": "markdown",
   "metadata": {},
   "source": [
    "**linspace**"
   ]
  },
  {
   "cell_type": "markdown",
   "metadata": {},
   "source": [
    "*Retorna valores dentro de um intervalo com o espaçamento equivalente*"
   ]
  },
  {
   "cell_type": "code",
   "execution_count": 16,
   "metadata": {},
   "outputs": [
    {
     "data": {
      "text/plain": [
       "array([ 0. ,  7.5, 15. ])"
      ]
     },
     "execution_count": 16,
     "metadata": {},
     "output_type": "execute_result"
    }
   ],
   "source": [
    "#Retornar 3 números entre 0 e 15, com o intervalo entre eles equivalentes\n",
    "np.linspace(0,15,3)"
   ]
  },
  {
   "cell_type": "code",
   "execution_count": 17,
   "metadata": {},
   "outputs": [
    {
     "data": {
      "text/plain": [
       "array([ 0.        ,  0.51724138,  1.03448276,  1.55172414,  2.06896552,\n",
       "        2.5862069 ,  3.10344828,  3.62068966,  4.13793103,  4.65517241,\n",
       "        5.17241379,  5.68965517,  6.20689655,  6.72413793,  7.24137931,\n",
       "        7.75862069,  8.27586207,  8.79310345,  9.31034483,  9.82758621,\n",
       "       10.34482759, 10.86206897, 11.37931034, 11.89655172, 12.4137931 ,\n",
       "       12.93103448, 13.44827586, 13.96551724, 14.48275862, 15.        ])"
      ]
     },
     "execution_count": 17,
     "metadata": {},
     "output_type": "execute_result"
    }
   ],
   "source": [
    "#Retornar 30 números entre 0 e 15, com intervalos entre eles equivalentes\n",
    "np.linspace(0,15,30)"
   ]
  },
  {
   "cell_type": "markdown",
   "metadata": {},
   "source": [
    "**max, min, argmax, argmin**"
   ]
  },
  {
   "cell_type": "markdown",
   "metadata": {},
   "source": [
    "Encontrando os maiores valores e os menores e os índices"
   ]
  },
  {
   "cell_type": "code",
   "execution_count": 25,
   "metadata": {},
   "outputs": [],
   "source": [
    "# Criando um Array 2d com 10 linhas e 5 colunas\n",
    "array2d = np.random.randn(10,5)"
   ]
  },
  {
   "cell_type": "code",
   "execution_count": 26,
   "metadata": {},
   "outputs": [
    {
     "data": {
      "text/plain": [
       "array([[-0.16629008,  1.17721885,  0.89629024,  0.25532001, -0.49918673],\n",
       "       [-1.10277525, -1.18027048, -0.58918792,  0.21134711,  0.66859752],\n",
       "       [-0.34866626, -0.62512982, -0.84322387,  1.78178358,  0.85442565],\n",
       "       [-0.79700402,  0.71263227, -0.40114261, -0.23507668,  0.38515652],\n",
       "       [ 0.9248373 ,  0.17362588,  0.14482124,  0.07315733, -0.27139341],\n",
       "       [-0.53708953,  0.40334334, -0.20435623,  0.34587786,  0.10268947],\n",
       "       [-0.07251559, -0.27902243, -0.07680294, -0.54042376,  1.02755476],\n",
       "       [ 2.10900255,  0.04592982, -0.02471291, -1.21783027,  0.06832875],\n",
       "       [-0.07298389,  0.7474004 ,  0.04317739,  0.87973019,  0.65222261],\n",
       "       [-1.25898157,  1.95593586,  1.52577335,  0.68910172, -0.54321504]])"
      ]
     },
     "execution_count": 26,
     "metadata": {},
     "output_type": "execute_result"
    }
   ],
   "source": [
    "array2d"
   ]
  },
  {
   "cell_type": "code",
   "execution_count": 28,
   "metadata": {},
   "outputs": [
    {
     "data": {
      "text/plain": [
       "2.109002553463747"
      ]
     },
     "execution_count": 28,
     "metadata": {},
     "output_type": "execute_result"
    }
   ],
   "source": [
    "#Encontrando o maior valor do array\n",
    "array2d.max()"
   ]
  },
  {
   "cell_type": "code",
   "execution_count": 30,
   "metadata": {},
   "outputs": [
    {
     "data": {
      "text/plain": [
       "-1.2589815688116874"
      ]
     },
     "execution_count": 30,
     "metadata": {},
     "output_type": "execute_result"
    }
   ],
   "source": [
    "#Econtrando o menor valor do array\n",
    "array2d.min()"
   ]
  },
  {
   "cell_type": "code",
   "execution_count": 32,
   "metadata": {},
   "outputs": [
    {
     "data": {
      "text/plain": [
       "35"
      ]
     },
     "execution_count": 32,
     "metadata": {},
     "output_type": "execute_result"
    }
   ],
   "source": [
    "#Encontrando o índice do maior valor\n",
    "array2d.argmax()"
   ]
  },
  {
   "cell_type": "code",
   "execution_count": 33,
   "metadata": {},
   "outputs": [
    {
     "data": {
      "text/plain": [
       "45"
      ]
     },
     "execution_count": 33,
     "metadata": {},
     "output_type": "execute_result"
    }
   ],
   "source": [
    "#Encontrando o índice do menor valor\n",
    "array2d.argmin()"
   ]
  },
  {
   "cell_type": "markdown",
   "metadata": {},
   "source": [
    "**Seleção**"
   ]
  },
  {
   "cell_type": "code",
   "execution_count": 34,
   "metadata": {},
   "outputs": [],
   "source": [
    "array = np.arange(1,20)"
   ]
  },
  {
   "cell_type": "code",
   "execution_count": 35,
   "metadata": {},
   "outputs": [
    {
     "data": {
      "text/plain": [
       "array([ 1,  2,  3,  4,  5,  6,  7,  8,  9, 10, 11, 12, 13, 14, 15, 16, 17,\n",
       "       18, 19])"
      ]
     },
     "execution_count": 35,
     "metadata": {},
     "output_type": "execute_result"
    }
   ],
   "source": [
    "array"
   ]
  },
  {
   "cell_type": "code",
   "execution_count": 37,
   "metadata": {},
   "outputs": [
    {
     "data": {
      "text/plain": [
       "array([False, False, False, False, False,  True,  True,  True,  True,\n",
       "        True,  True,  True,  True,  True,  True,  True,  True,  True,\n",
       "        True])"
      ]
     },
     "execution_count": 37,
     "metadata": {},
     "output_type": "execute_result"
    }
   ],
   "source": [
    "# verificando os números maiores que 5 e retornando uma resposta booleana\n",
    "array > 5"
   ]
  },
  {
   "cell_type": "code",
   "execution_count": 39,
   "metadata": {},
   "outputs": [
    {
     "data": {
      "text/plain": [
       "2"
      ]
     },
     "execution_count": 39,
     "metadata": {},
     "output_type": "execute_result"
    }
   ],
   "source": [
    "# Selecionando um valor pelo o índice do array\n",
    "array[1]"
   ]
  },
  {
   "cell_type": "code",
   "execution_count": 41,
   "metadata": {},
   "outputs": [
    {
     "data": {
      "text/plain": [
       "array([10, 11, 12, 13, 14])"
      ]
     },
     "execution_count": 41,
     "metadata": {},
     "output_type": "execute_result"
    }
   ],
   "source": [
    "#Selecionando os valores do índice 9 até o índice 14\n",
    "array[9:14]"
   ]
  },
  {
   "cell_type": "code",
   "execution_count": null,
   "metadata": {},
   "outputs": [],
   "source": []
  },
  {
   "cell_type": "code",
   "execution_count": null,
   "metadata": {},
   "outputs": [],
   "source": []
  }
 ],
 "metadata": {
  "kernelspec": {
   "display_name": "Python 3",
   "language": "python",
   "name": "python3"
  },
  "language_info": {
   "codemirror_mode": {
    "name": "ipython",
    "version": 3
   },
   "file_extension": ".py",
   "mimetype": "text/x-python",
   "name": "python",
   "nbconvert_exporter": "python",
   "pygments_lexer": "ipython3",
   "version": "3.7.6"
  }
 },
 "nbformat": 4,
 "nbformat_minor": 4
}

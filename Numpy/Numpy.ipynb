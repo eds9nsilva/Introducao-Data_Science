{
 "cells": [
  {
   "cell_type": "markdown",
   "metadata": {},
   "source": [
    "# Usando Numpy"
   ]
  },
  {
   "cell_type": "markdown",
   "metadata": {},
   "source": [
    "*Entendo que já está com a biblioteca instala, agora podemos importar*"
   ]
  },
  {
   "cell_type": "code",
   "execution_count": 1,
   "metadata": {},
   "outputs": [],
   "source": [
    "import numpy as np"
   ]
  },
  {
   "cell_type": "markdown",
   "metadata": {},
   "source": [
    "*Numpy possui muitas funções, então não vamos falar sobre todas mas pelo menos as básica*"
   ]
  },
  {
   "cell_type": "markdown",
   "metadata": {},
   "source": [
    "**Criando uma lista em Python**"
   ]
  },
  {
   "cell_type": "code",
   "execution_count": 3,
   "metadata": {},
   "outputs": [],
   "source": [
    "lista = [1,2,3]"
   ]
  },
  {
   "cell_type": "code",
   "execution_count": 4,
   "metadata": {},
   "outputs": [
    {
     "data": {
      "text/plain": [
       "[1, 2, 3]"
      ]
     },
     "execution_count": 4,
     "metadata": {},
     "output_type": "execute_result"
    }
   ],
   "source": [
    "lista"
   ]
  },
  {
   "cell_type": "markdown",
   "metadata": {},
   "source": [
    "**Convertendo está lista em um array numpy**"
   ]
  },
  {
   "cell_type": "code",
   "execution_count": 5,
   "metadata": {},
   "outputs": [
    {
     "data": {
      "text/plain": [
       "array([1, 2, 3])"
      ]
     },
     "execution_count": 5,
     "metadata": {},
     "output_type": "execute_result"
    }
   ],
   "source": [
    "np.array(lista)"
   ]
  },
  {
   "cell_type": "markdown",
   "metadata": {},
   "source": [
    "*Criando uma matriz em Python*"
   ]
  },
  {
   "cell_type": "code",
   "execution_count": 11,
   "metadata": {},
   "outputs": [],
   "source": [
    "matriz = [[1,2,3],[4,5,6],[7,8,9]]"
   ]
  },
  {
   "cell_type": "markdown",
   "metadata": {},
   "source": [
    "Convertendo a matriz em uma array 2d"
   ]
  },
  {
   "cell_type": "code",
   "execution_count": 12,
   "metadata": {},
   "outputs": [
    {
     "data": {
      "text/plain": [
       "array([[1, 2, 3],\n",
       "       [4, 5, 6],\n",
       "       [7, 8, 9]])"
      ]
     },
     "execution_count": 12,
     "metadata": {},
     "output_type": "execute_result"
    }
   ],
   "source": [
    "np.array(matriz)"
   ]
  },
  {
   "cell_type": "markdown",
   "metadata": {},
   "source": [
    "**Arange**"
   ]
  },
  {
   "cell_type": "markdown",
   "metadata": {},
   "source": [
    "Criar uma array dentro de um determinado intervalos"
   ]
  },
  {
   "cell_type": "code",
   "execution_count": 13,
   "metadata": {},
   "outputs": [
    {
     "data": {
      "text/plain": [
       "array([0, 1, 2, 3, 4, 5, 6, 7, 8, 9])"
      ]
     },
     "execution_count": 13,
     "metadata": {},
     "output_type": "execute_result"
    }
   ],
   "source": [
    "# Criando um array de 0 a 10\n",
    "np.arange(0,10)"
   ]
  },
  {
   "cell_type": "code",
   "execution_count": 16,
   "metadata": {},
   "outputs": [
    {
     "data": {
      "text/plain": [
       "array([ 0,  2,  4,  6,  8, 10])"
      ]
     },
     "execution_count": 16,
     "metadata": {},
     "output_type": "execute_result"
    }
   ],
   "source": [
    "# Criando um array de 0 a 11 com intervalo de 2\n",
    "np.arange(0,11,2)"
   ]
  },
  {
   "cell_type": "markdown",
   "metadata": {},
   "source": [
    "**Random**"
   ]
  },
  {
   "cell_type": "markdown",
   "metadata": {},
   "source": [
    "Criar valores aleatórios "
   ]
  },
  {
   "cell_type": "markdown",
   "metadata": {},
   "source": [
    "**rand** *Cria uma array com valores aleatórios entre o intervalo 0 e 1*"
   ]
  },
  {
   "cell_type": "code",
   "execution_count": 19,
   "metadata": {},
   "outputs": [
    {
     "data": {
      "text/plain": [
       "array([0.05234678, 0.83924005])"
      ]
     },
     "execution_count": 19,
     "metadata": {},
     "output_type": "execute_result"
    }
   ],
   "source": [
    "np.random.rand(2)"
   ]
  },
  {
   "cell_type": "code",
   "execution_count": 21,
   "metadata": {},
   "outputs": [
    {
     "data": {
      "text/plain": [
       "array([[0.87925733, 0.34828982, 0.72332032, 0.65719573],\n",
       "       [0.88619373, 0.97366709, 0.54678541, 0.29499133],\n",
       "       [0.35458358, 0.856052  , 0.69452188, 0.83719404],\n",
       "       [0.04136745, 0.97479076, 0.39840837, 0.2431519 ]])"
      ]
     },
     "execution_count": 21,
     "metadata": {},
     "output_type": "execute_result"
    }
   ],
   "source": [
    "np.random.rand(4,4)"
   ]
  },
  {
   "cell_type": "markdown",
   "metadata": {},
   "source": [
    "**randint** *Retorna um valor inteiro dentro de um intervalo* "
   ]
  },
  {
   "cell_type": "code",
   "execution_count": 24,
   "metadata": {},
   "outputs": [
    {
     "data": {
      "text/plain": [
       "1"
      ]
     },
     "execution_count": 24,
     "metadata": {},
     "output_type": "execute_result"
    }
   ],
   "source": [
    "# Retornar um valor entre 1 e 10\n",
    "np.random.randint(1,10)"
   ]
  },
  {
   "cell_type": "code",
   "execution_count": 27,
   "metadata": {},
   "outputs": [
    {
     "data": {
      "text/plain": [
       "array([11, 48,  2, 26, 16])"
      ]
     },
     "execution_count": 27,
     "metadata": {},
     "output_type": "execute_result"
    }
   ],
   "source": [
    "# Retornar 5 valores entre 1 e 0\n",
    "np.random.randint(1,50,5)"
   ]
  },
  {
   "cell_type": "markdown",
   "metadata": {},
   "source": [
    "**randn** *Retorna valores reais*"
   ]
  },
  {
   "cell_type": "code",
   "execution_count": 28,
   "metadata": {},
   "outputs": [
    {
     "data": {
      "text/plain": [
       "array([-0.89831491,  0.60741049])"
      ]
     },
     "execution_count": 28,
     "metadata": {},
     "output_type": "execute_result"
    }
   ],
   "source": [
    "np.random.randn(2)"
   ]
  },
  {
   "cell_type": "code",
   "execution_count": 29,
   "metadata": {},
   "outputs": [
    {
     "data": {
      "text/plain": [
       "array([[ 7.57315811e-01,  3.80732990e-01,  3.43702555e-01,\n",
       "         1.70541732e-01,  1.83624382e-01,  7.90731470e-01,\n",
       "        -7.36081363e-01,  2.94282752e-01, -6.22882663e-01,\n",
       "         7.84660957e-01],\n",
       "       [ 4.89261260e-01, -1.07778072e+00,  2.57595748e-01,\n",
       "         1.93350187e-01, -8.90451348e-01, -6.03598395e-01,\n",
       "         3.52651735e-01,  3.05044410e-01, -7.04982871e-01,\n",
       "        -1.19366699e+00],\n",
       "       [-8.54782784e-01, -7.86097796e-01, -1.32127945e+00,\n",
       "         2.32245793e+00,  2.50465356e+00,  1.02345982e+00,\n",
       "        -2.25231372e-01,  2.51926682e-01,  1.17269546e+00,\n",
       "         8.24568048e-01],\n",
       "       [-1.55892206e+00,  3.68565967e-01, -9.46475672e-02,\n",
       "        -3.41923838e+00, -1.92943824e+00, -1.08325158e+00,\n",
       "         3.52241519e-01, -1.68332444e+00,  1.01981549e+00,\n",
       "         1.25391587e+00],\n",
       "       [ 1.05315357e+00,  2.98900046e-01, -1.59052654e+00,\n",
       "        -2.54141884e-02, -1.50364484e+00,  3.78979676e-01,\n",
       "        -1.33399658e+00,  1.76324564e-01, -2.94051180e-01,\n",
       "        -1.26191657e+00],\n",
       "       [-2.37495745e+00,  1.01027201e+00, -1.45807322e+00,\n",
       "         1.01135947e+00,  1.63614633e+00, -1.23153093e+00,\n",
       "        -7.01066380e-01, -1.37467694e+00, -1.17101945e+00,\n",
       "        -6.29587403e-01],\n",
       "       [ 1.21062288e+00, -3.84370632e-01,  7.13080842e-01,\n",
       "         2.33012218e+00, -1.24158282e+00,  3.70633697e-01,\n",
       "        -9.08826329e-01,  7.65979389e-02, -3.24734494e-01,\n",
       "         1.01400360e+00],\n",
       "       [-1.75176463e+00,  5.87010262e-01,  4.51610845e-01,\n",
       "        -4.05200729e-01,  5.01639124e-01, -5.29838384e-01,\n",
       "         1.05951853e+00,  1.11997752e-02,  1.43077168e+00,\n",
       "         1.75994843e+00],\n",
       "       [ 2.74770225e-01, -2.10034913e-01,  2.20418646e-01,\n",
       "        -1.34646379e+00,  7.85781840e-01, -4.19925036e-01,\n",
       "        -3.32751401e-01,  4.06905755e-01,  1.16088989e-03,\n",
       "        -4.28408886e-01],\n",
       "       [-2.06406291e-02,  2.15871192e-01, -1.13353809e+00,\n",
       "         8.32534857e-01,  3.89624165e-01, -6.19256793e-01,\n",
       "         7.96742413e-01,  7.98793966e-01, -2.08618212e+00,\n",
       "         7.92934593e-01]])"
      ]
     },
     "execution_count": 29,
     "metadata": {},
     "output_type": "execute_result"
    }
   ],
   "source": [
    "np.random.randn(10,10)"
   ]
  },
  {
   "cell_type": "markdown",
   "metadata": {},
   "source": [
    "**linspace**"
   ]
  },
  {
   "cell_type": "markdown",
   "metadata": {},
   "source": [
    "*Retorna valores dentro de um intervalo com o espaçamento equivalente*"
   ]
  },
  {
   "cell_type": "code",
   "execution_count": 31,
   "metadata": {},
   "outputs": [
    {
     "data": {
      "text/plain": [
       "array([ 0. ,  7.5, 15. ])"
      ]
     },
     "execution_count": 31,
     "metadata": {},
     "output_type": "execute_result"
    }
   ],
   "source": [
    "#Retornar 3 números entre 0 e 15, com o intervalo entre eles equivalentes\n",
    "np.linspace(0,15,3)"
   ]
  },
  {
   "cell_type": "code",
   "execution_count": 34,
   "metadata": {},
   "outputs": [
    {
     "data": {
      "text/plain": [
       "array([ 0.        ,  0.51724138,  1.03448276,  1.55172414,  2.06896552,\n",
       "        2.5862069 ,  3.10344828,  3.62068966,  4.13793103,  4.65517241,\n",
       "        5.17241379,  5.68965517,  6.20689655,  6.72413793,  7.24137931,\n",
       "        7.75862069,  8.27586207,  8.79310345,  9.31034483,  9.82758621,\n",
       "       10.34482759, 10.86206897, 11.37931034, 11.89655172, 12.4137931 ,\n",
       "       12.93103448, 13.44827586, 13.96551724, 14.48275862, 15.        ])"
      ]
     },
     "execution_count": 34,
     "metadata": {},
     "output_type": "execute_result"
    }
   ],
   "source": [
    "#Retornar 30 números entre 0 e 15, com intervalos entre eles equivalentes\n",
    "np.linspace(0,15,30)"
   ]
  },
  {
   "cell_type": "code",
   "execution_count": null,
   "metadata": {},
   "outputs": [],
   "source": []
  }
 ],
 "metadata": {
  "kernelspec": {
   "display_name": "Python 3",
   "language": "python",
   "name": "python3"
  },
  "language_info": {
   "codemirror_mode": {
    "name": "ipython",
    "version": 3
   },
   "file_extension": ".py",
   "mimetype": "text/x-python",
   "name": "python",
   "nbconvert_exporter": "python",
   "pygments_lexer": "ipython3",
   "version": "3.7.6"
  }
 },
 "nbformat": 4,
 "nbformat_minor": 4
}
